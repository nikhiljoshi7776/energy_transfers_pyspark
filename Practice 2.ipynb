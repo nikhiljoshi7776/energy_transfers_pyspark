{
 "cells": [
  {
   "cell_type": "code",
   "execution_count": 496,
   "id": "904f3027",
   "metadata": {},
   "outputs": [],
   "source": [
    "from pyspark.sql import SparkSession\n",
    "from pyspark.sql import *\n",
    "from pyspark.sql import functions as F"
   ]
  },
  {
   "cell_type": "code",
   "execution_count": 474,
   "id": "092e3715",
   "metadata": {},
   "outputs": [],
   "source": [
    "spark = SparkSession.builder.appName('Practice_session_1').getOrCreate()"
   ]
  },
  {
   "cell_type": "code",
   "execution_count": 475,
   "id": "c975dbde",
   "metadata": {},
   "outputs": [
    {
     "data": {
      "text/html": [
       "\n",
       "            <div>\n",
       "                <p><b>SparkSession - in-memory</b></p>\n",
       "                \n",
       "        <div>\n",
       "            <p><b>SparkContext</b></p>\n",
       "\n",
       "            <p><a href=\"http://192.168.0.77:4041\">Spark UI</a></p>\n",
       "\n",
       "            <dl>\n",
       "              <dt>Version</dt>\n",
       "                <dd><code>v3.2.1</code></dd>\n",
       "              <dt>Master</dt>\n",
       "                <dd><code>local[*]</code></dd>\n",
       "              <dt>AppName</dt>\n",
       "                <dd><code>Practice_session_1</code></dd>\n",
       "            </dl>\n",
       "        </div>\n",
       "        \n",
       "            </div>\n",
       "        "
      ],
      "text/plain": [
       "<pyspark.sql.session.SparkSession at 0x7fa9b903cf40>"
      ]
     },
     "execution_count": 475,
     "metadata": {},
     "output_type": "execute_result"
    }
   ],
   "source": [
    "spark"
   ]
  },
  {
   "cell_type": "markdown",
   "id": "031666b0",
   "metadata": {},
   "source": [
    "# Pre-processing"
   ]
  },
  {
   "cell_type": "code",
   "execution_count": 553,
   "id": "6efd60b1",
   "metadata": {},
   "outputs": [],
   "source": [
    "# read the dataset\n",
    "df = spark.read.csv('quarterly_data_test_v2.csv',header=True,inferSchema= True)"
   ]
  },
  {
   "cell_type": "code",
   "execution_count": 554,
   "id": "5bfe7b95",
   "metadata": {},
   "outputs": [
    {
     "name": "stdout",
     "output_type": "stream",
     "text": [
      "root\n",
      " |-- Year: integer (nullable = true)\n",
      " |-- Quarter: string (nullable = true)\n",
      " |-- Electricity_Transfers: integer (nullable = true)\n",
      " |-- Gas_Transfers: integer (nullable = true)\n",
      " |-- Total_Electricity_Customers: integer (nullable = true)\n",
      " |-- Total_Gas_Customers: integer (nullable = true)\n",
      " |-- Year_/_Quarter: string (nullable = true)\n",
      " |-- _c7: string (nullable = true)\n",
      " |-- _c8: string (nullable = true)\n",
      " |-- _c9: string (nullable = true)\n",
      " |-- _c10: string (nullable = true)\n",
      " |-- _c11: string (nullable = true)\n",
      "\n"
     ]
    }
   ],
   "source": [
    "df.printSchema()"
   ]
  },
  {
   "cell_type": "code",
   "execution_count": 555,
   "id": "4d8c75f7",
   "metadata": {},
   "outputs": [
    {
     "data": {
      "text/plain": [
       "pyspark.sql.dataframe.DataFrame"
      ]
     },
     "execution_count": 555,
     "metadata": {},
     "output_type": "execute_result"
    }
   ],
   "source": [
    "type(df)"
   ]
  },
  {
   "cell_type": "code",
   "execution_count": 556,
   "id": "fa73eebf",
   "metadata": {},
   "outputs": [],
   "source": [
    "df = df.select('Year',\n",
    " 'Quarter',\n",
    " 'Electricity_Transfers',\n",
    " 'Gas_Transfers',\n",
    " 'Total_Electricity_Customers',\n",
    " 'Total_Gas_Customers',\n",
    " 'Year_/_Quarter')"
   ]
  },
  {
   "cell_type": "code",
   "execution_count": 557,
   "id": "1720b55f",
   "metadata": {},
   "outputs": [],
   "source": [
    "# df.drop('_c7', '_c8', '_c9', '_c10', '_c11')"
   ]
  },
  {
   "cell_type": "code",
   "execution_count": 558,
   "id": "355964ac",
   "metadata": {},
   "outputs": [
    {
     "name": "stdout",
     "output_type": "stream",
     "text": [
      "root\n",
      " |-- Year: integer (nullable = true)\n",
      " |-- Quarter: string (nullable = true)\n",
      " |-- Electricity_Transfers: integer (nullable = true)\n",
      " |-- Gas_Transfers: integer (nullable = true)\n",
      " |-- Total_Electricity_Customers: integer (nullable = true)\n",
      " |-- Total_Gas_Customers: integer (nullable = true)\n",
      " |-- Year_/_Quarter: string (nullable = true)\n",
      "\n"
     ]
    }
   ],
   "source": [
    "df.printSchema()"
   ]
  },
  {
   "cell_type": "code",
   "execution_count": 559,
   "id": "d57203e6",
   "metadata": {},
   "outputs": [],
   "source": [
    "from pyspark.sql.functions import col, trim"
   ]
  },
  {
   "cell_type": "code",
   "execution_count": 560,
   "id": "f81d17b3",
   "metadata": {},
   "outputs": [],
   "source": [
    "# df = df.withColumn('Quarter', trim(col('Quarter')))"
   ]
  },
  {
   "cell_type": "code",
   "execution_count": 561,
   "id": "cdbc5b86",
   "metadata": {},
   "outputs": [
    {
     "name": "stdout",
     "output_type": "stream",
     "text": [
      "root\n",
      " |-- Year: integer (nullable = true)\n",
      " |-- Quarter: string (nullable = true)\n",
      " |-- Electricity_Transfers: integer (nullable = true)\n",
      " |-- Gas_Transfers: integer (nullable = true)\n",
      " |-- Total_Electricity_Customers: integer (nullable = true)\n",
      " |-- Total_Gas_Customers: integer (nullable = true)\n",
      " |-- Year_/_Quarter: string (nullable = true)\n",
      "\n"
     ]
    }
   ],
   "source": [
    "df.printSchema()"
   ]
  },
  {
   "cell_type": "code",
   "execution_count": 562,
   "id": "baa5932f",
   "metadata": {},
   "outputs": [],
   "source": [
    "df = df.toPandas()"
   ]
  },
  {
   "cell_type": "code",
   "execution_count": 563,
   "id": "910fdaca",
   "metadata": {},
   "outputs": [
    {
     "name": "stdout",
     "output_type": "stream",
     "text": [
      "0     Jan to Mar \n",
      "1     Apr to Jun \n",
      "2     Jul to Sep \n",
      "3     Oct to Dec \n",
      "4              Q1\n",
      "         ...     \n",
      "78    Jul to Sep \n",
      "79             Q4\n",
      "80             Q1\n",
      "81             Q2\n",
      "82    Jul to Sep \n",
      "Name: Quarter, Length: 83, dtype: object\n"
     ]
    }
   ],
   "source": [
    "df['Quarter'].replace({'Jan to Mar': 'Q1', 'Apr to Jun': 'Q2', 'Jul to Sep': 'Q3', 'Oct to Dec': 'Q4'}, inplace=True)\n",
    "print(df['Quarter'])\n"
   ]
  },
  {
   "cell_type": "code",
   "execution_count": 551,
   "id": "cda116b6",
   "metadata": {},
   "outputs": [
    {
     "ename": "AttributeError",
     "evalue": "'DataFrame' object has no attribute 'withColumn'",
     "output_type": "error",
     "traceback": [
      "\u001b[0;31m---------------------------------------------------------------------------\u001b[0m",
      "\u001b[0;31mAttributeError\u001b[0m                            Traceback (most recent call last)",
      "\u001b[0;32m<ipython-input-551-ae46906391cf>\u001b[0m in \u001b[0;36m<module>\u001b[0;34m\u001b[0m\n\u001b[0;32m----> 1\u001b[0;31m \u001b[0mdf\u001b[0m \u001b[0;34m=\u001b[0m \u001b[0mdf\u001b[0m\u001b[0;34m.\u001b[0m\u001b[0mwithColumn\u001b[0m\u001b[0;34m(\u001b[0m\u001b[0;34m'Quarter'\u001b[0m\u001b[0;34m,\u001b[0m \u001b[0mtrim\u001b[0m\u001b[0;34m(\u001b[0m\u001b[0mdf\u001b[0m\u001b[0;34m.\u001b[0m\u001b[0mQuarter\u001b[0m\u001b[0;34m)\u001b[0m\u001b[0;34m)\u001b[0m\u001b[0;34m\u001b[0m\u001b[0;34m\u001b[0m\u001b[0m\n\u001b[0m",
      "\u001b[0;32m~/opt/anaconda3/lib/python3.8/site-packages/pandas/core/generic.py\u001b[0m in \u001b[0;36m__getattr__\u001b[0;34m(self, name)\u001b[0m\n\u001b[1;32m   5463\u001b[0m             \u001b[0;32mif\u001b[0m \u001b[0mself\u001b[0m\u001b[0;34m.\u001b[0m\u001b[0m_info_axis\u001b[0m\u001b[0;34m.\u001b[0m\u001b[0m_can_hold_identifiers_and_holds_name\u001b[0m\u001b[0;34m(\u001b[0m\u001b[0mname\u001b[0m\u001b[0;34m)\u001b[0m\u001b[0;34m:\u001b[0m\u001b[0;34m\u001b[0m\u001b[0;34m\u001b[0m\u001b[0m\n\u001b[1;32m   5464\u001b[0m                 \u001b[0;32mreturn\u001b[0m \u001b[0mself\u001b[0m\u001b[0;34m[\u001b[0m\u001b[0mname\u001b[0m\u001b[0;34m]\u001b[0m\u001b[0;34m\u001b[0m\u001b[0;34m\u001b[0m\u001b[0m\n\u001b[0;32m-> 5465\u001b[0;31m             \u001b[0;32mreturn\u001b[0m \u001b[0mobject\u001b[0m\u001b[0;34m.\u001b[0m\u001b[0m__getattribute__\u001b[0m\u001b[0;34m(\u001b[0m\u001b[0mself\u001b[0m\u001b[0;34m,\u001b[0m \u001b[0mname\u001b[0m\u001b[0;34m)\u001b[0m\u001b[0;34m\u001b[0m\u001b[0;34m\u001b[0m\u001b[0m\n\u001b[0m\u001b[1;32m   5466\u001b[0m \u001b[0;34m\u001b[0m\u001b[0m\n\u001b[1;32m   5467\u001b[0m     \u001b[0;32mdef\u001b[0m \u001b[0m__setattr__\u001b[0m\u001b[0;34m(\u001b[0m\u001b[0mself\u001b[0m\u001b[0;34m,\u001b[0m \u001b[0mname\u001b[0m\u001b[0;34m:\u001b[0m \u001b[0mstr\u001b[0m\u001b[0;34m,\u001b[0m \u001b[0mvalue\u001b[0m\u001b[0;34m)\u001b[0m \u001b[0;34m->\u001b[0m \u001b[0;32mNone\u001b[0m\u001b[0;34m:\u001b[0m\u001b[0;34m\u001b[0m\u001b[0;34m\u001b[0m\u001b[0m\n",
      "\u001b[0;31mAttributeError\u001b[0m: 'DataFrame' object has no attribute 'withColumn'"
     ]
    }
   ],
   "source": [
    "df = df.withColumn('Quarter', trim(df.Quarter))"
   ]
  },
  {
   "cell_type": "code",
   "execution_count": 509,
   "id": "c94ce935",
   "metadata": {},
   "outputs": [
    {
     "name": "stdout",
     "output_type": "stream",
     "text": [
      "root\n",
      " |-- Year: integer (nullable = true)\n",
      " |-- Quarter: string (nullable = true)\n",
      " |-- Electricity_Transfers: integer (nullable = true)\n",
      " |-- Gas_Transfers: integer (nullable = true)\n",
      " |-- Total_Electricity_Customers: integer (nullable = true)\n",
      " |-- Total_Gas_Customers: integer (nullable = true)\n",
      " |-- Year_/_Quarter: string (nullable = true)\n",
      "\n"
     ]
    }
   ],
   "source": [
    "df.printSchema()"
   ]
  },
  {
   "cell_type": "code",
   "execution_count": 512,
   "id": "3b049149",
   "metadata": {},
   "outputs": [
    {
     "name": "stdout",
     "output_type": "stream",
     "text": [
      "+-------+-----+\n",
      "|Quarter|count|\n",
      "+-------+-----+\n",
      "|     Q3|    1|\n",
      "|     Q4|    1|\n",
      "|     Q2|    1|\n",
      "|     Q1|    1|\n",
      "+-------+-----+\n",
      "\n"
     ]
    }
   ],
   "source": [
    "# Assuming your DataFrame is named 'df'\n",
    "df = (\n",
    "    df.groupBy('Quarter')\n",
    "    .count()\n",
    "    .withColumn(\n",
    "        'Quarter', \n",
    "        F.when(F.col('Quarter') == 'Jan to Mar', 'Q1')\n",
    "        .when(F.col('Quarter') == 'Apr to Jun', 'Q2')\n",
    "        .when(F.col('Quarter') == 'Jul to Sep', 'Q3')\n",
    "        .when(F.col('Quarter') == 'Oct to Dec', 'Q4')\n",
    "    )\n",
    ")\n",
    "\n",
    "df.show()"
   ]
  },
  {
   "cell_type": "code",
   "execution_count": null,
   "id": "f2f6f71e",
   "metadata": {},
   "outputs": [],
   "source": []
  },
  {
   "cell_type": "code",
   "execution_count": null,
   "id": "cf6a6628",
   "metadata": {},
   "outputs": [],
   "source": []
  },
  {
   "cell_type": "markdown",
   "id": "7efccc0d",
   "metadata": {},
   "source": [
    "## Gas and Electricity Transfers per Quarter"
   ]
  },
  {
   "cell_type": "code",
   "execution_count": 489,
   "id": "af400a70",
   "metadata": {
    "scrolled": true
   },
   "outputs": [
    {
     "name": "stdout",
     "output_type": "stream",
     "text": [
      "+----------+-----+\n",
      "|   Quarter|count|\n",
      "+----------+-----+\n",
      "|Apr to Jun|    1|\n",
      "|Jan to Mar|    1|\n",
      "|Jul to Sep|    1|\n",
      "|Oct to Dec|    1|\n",
      "+----------+-----+\n",
      "\n"
     ]
    }
   ],
   "source": [
    "df.groupBy('Quarter').count().orderBy('Quarter').show()"
   ]
  },
  {
   "cell_type": "code",
   "execution_count": 490,
   "id": "01fcedaf",
   "metadata": {
    "scrolled": true
   },
   "outputs": [
    {
     "ename": "AttributeError",
     "evalue": "'GroupedData' object has no attribute 'Or'",
     "output_type": "error",
     "traceback": [
      "\u001b[0;31m---------------------------------------------------------------------------\u001b[0m",
      "\u001b[0;31mAttributeError\u001b[0m                            Traceback (most recent call last)",
      "\u001b[0;32m<ipython-input-490-d3d8b28766e9>\u001b[0m in \u001b[0;36m<module>\u001b[0;34m\u001b[0m\n\u001b[0;32m----> 1\u001b[0;31m \u001b[0mdf\u001b[0m\u001b[0;34m.\u001b[0m\u001b[0mgroupBy\u001b[0m\u001b[0;34m(\u001b[0m\u001b[0;34m'Quarter'\u001b[0m\u001b[0;34m)\u001b[0m\u001b[0;34m.\u001b[0m\u001b[0mOr\u001b[0m\u001b[0;34m.\u001b[0m\u001b[0mcount\u001b[0m\u001b[0;34m(\u001b[0m\u001b[0;34m)\u001b[0m\u001b[0;34m.\u001b[0m\u001b[0mshow\u001b[0m\u001b[0;34m(\u001b[0m\u001b[0;34m)\u001b[0m\u001b[0;34m\u001b[0m\u001b[0;34m\u001b[0m\u001b[0m\n\u001b[0m",
      "\u001b[0;31mAttributeError\u001b[0m: 'GroupedData' object has no attribute 'Or'"
     ]
    }
   ],
   "source": [
    "df.groupBy('Quarter').Or.count().show()"
   ]
  },
  {
   "cell_type": "markdown",
   "id": "c89f0fd8",
   "metadata": {},
   "source": [
    "### Combined Transfers"
   ]
  },
  {
   "cell_type": "code",
   "execution_count": null,
   "id": "a9a4ddea",
   "metadata": {},
   "outputs": [],
   "source": [
    "total_energy_transfers = df.groupBy('Quarter').agg({'Gas_Transfers': 'sum', 'Electricity_Transfers': 'sum'})\n",
    "\n",
    "# Convert PySpark DataFrame to Pandas DataFrame\n",
    "pandas_df = total_energy_transfers.toPandas()\n",
    "\n",
    "# Plotting using Pandas\n",
    "pandas_df.plot(kind='bar', x='Quarter', y=['sum(Electricity_Transfers)', 'sum(Gas_Transfers)'],\n",
    "               title='Total Energy Transfers', figsize=(5, 5), rot=0, stacked = True)"
   ]
  },
  {
   "cell_type": "markdown",
   "id": "931ec24e",
   "metadata": {},
   "source": [
    "### Gas Transfers"
   ]
  },
  {
   "cell_type": "code",
   "execution_count": null,
   "id": "6f230a3e",
   "metadata": {},
   "outputs": [],
   "source": [
    "total_gas_transfer = df.groupBy('Quarter').sum('Gas_Transfers').toPandas()\n",
    "total_gas_transfer\n",
    "\n",
    "total_gas_transfer.plot(kind='line', x='Quarter', y='sum(Gas_Transfers)', \n",
    "               title = 'Total Gas Transfers', figsize = (5,5), rot = 0)"
   ]
  },
  {
   "cell_type": "markdown",
   "id": "01ec2737",
   "metadata": {},
   "source": [
    "### Electricity Transfers"
   ]
  },
  {
   "cell_type": "code",
   "execution_count": null,
   "id": "b46af6a0",
   "metadata": {},
   "outputs": [],
   "source": [
    "total_electricity_transfer = df.groupBy('Quarter').sum('Electricity_Transfers').toPandas()\n",
    "\n",
    "total_electricity_transfer.plot(kind='line', x='Quarter', y='sum(Electricity_Transfers)', \n",
    "               title = 'Total Electricty Transfers', figsize = (5,5), rot = 0)"
   ]
  },
  {
   "cell_type": "markdown",
   "id": "f703e5f9",
   "metadata": {},
   "source": [
    "## Gas and Electricity Transfers per Year"
   ]
  },
  {
   "cell_type": "markdown",
   "id": "9dbd4088",
   "metadata": {},
   "source": [
    "### Combined"
   ]
  },
  {
   "cell_type": "code",
   "execution_count": null,
   "id": "df6d8f42",
   "metadata": {},
   "outputs": [],
   "source": [
    "total_energy_transfer_per_year = df.groupBy('Year').agg({'Gas_Transfers': 'sum', 'Electricity_Transfers': 'sum'})\n",
    "\n",
    "# Convert PySpark DataFrame to Pandas DataFrame\n",
    "pandas_df_per_year = total_energy_transfer_per_year.toPandas()\n",
    "\n",
    "# Sort the DataFrame by the 'Year' column\n",
    "pandas_df_per_year = pandas_df_per_year.sort_values(by='Year')\n",
    "\n",
    "# Plotting using Pandas\n",
    "pandas_df.plot(kind='bar', x='Year', y=['sum(Electricity_Transfers)', 'sum(Gas_Transfers)'],\n",
    "               title='Total Energy Transfers', figsize=(15, 15), rot=0, stacked = True)"
   ]
  },
  {
   "cell_type": "markdown",
   "id": "b71e3c41",
   "metadata": {},
   "source": [
    "### Gas Transfers"
   ]
  },
  {
   "cell_type": "code",
   "execution_count": null,
   "id": "65950a95",
   "metadata": {},
   "outputs": [],
   "source": [
    "gas_transfer_per_year = df.groupBy('Year').sum('Gas_Transfers')\n",
    "\n",
    "# Convert PySpark DataFrame to Pandas DataFrame\n",
    "gas_pandas_df_per_year = gas_transfer_per_year.toPandas()\n",
    "\n",
    "# Sort the DataFrame by the 'Year' column\n",
    "gas_pandas_df_per_year = gas_pandas_df_per_year.sort_values(by='Year')\n",
    "\n",
    "gas_pandas_df_per_year.plot(kind='bar', x='Year', y='sum(Gas_Transfers)', \n",
    "               title = 'Total Gas Transfers', figsize = (15,15), rot = 0)"
   ]
  },
  {
   "cell_type": "markdown",
   "id": "cf52901a",
   "metadata": {},
   "source": [
    "### Electricity Transfers"
   ]
  },
  {
   "cell_type": "code",
   "execution_count": null,
   "id": "5d7c57b7",
   "metadata": {},
   "outputs": [],
   "source": [
    "electricity_transfer_per_year = df.groupBy('Year').sum('Electricity_Transfers')\n",
    "\n",
    "# Convert PySpark DataFrame to Pandas DataFrame\n",
    "electricity_pandas_df_per_year = electricity_transfer_per_year.toPandas()\n",
    "\n",
    "# Sort the DataFrame by the 'Year' column\n",
    "electricity_pandas_df_per_year = electricity_pandas_df_per_year.sort_values(by='Year')\n",
    "\n",
    "electricity_pandas_df_per_year.plot(kind='bar', x='Year', y='sum(Electricity_Transfers)', \n",
    "               title = 'Total Electricity Transfers', figsize = (15,15), rot = 0)"
   ]
  },
  {
   "cell_type": "markdown",
   "id": "05fa00c6",
   "metadata": {},
   "source": [
    "## Gas and Electricity Customers per Quarter"
   ]
  },
  {
   "cell_type": "markdown",
   "id": "f6f0d029",
   "metadata": {},
   "source": [
    "### Combined Customers"
   ]
  },
  {
   "cell_type": "code",
   "execution_count": null,
   "id": "28f9c750",
   "metadata": {},
   "outputs": [],
   "source": [
    "total_energy_Customers = df.groupBy('Quarter').agg({'Total_Gas_Customers': 'sum', 'Total_Electricity_Customers': 'sum'})\n",
    "\n",
    "# Convert PySpark DataFrame to Pandas DataFrame\n",
    "pandas_df = total_energy_Customers.toPandas()\n",
    "\n",
    "# Plotting using Pandas\n",
    "pandas_df.plot(kind='line', x='Quarter', y=['sum(Total_Gas_Customers)', 'sum(Total_Electricity_Customers)'],\n",
    "               title='Total Energy Customers per Quarter', figsize=(5, 5), rot=0, stacked = True)"
   ]
  },
  {
   "cell_type": "markdown",
   "id": "f41d2cd7",
   "metadata": {},
   "source": [
    "### Gas Customers"
   ]
  },
  {
   "cell_type": "code",
   "execution_count": null,
   "id": "180eb943",
   "metadata": {},
   "outputs": [],
   "source": [
    "total_gas_customers = df.groupBy('Quarter').sum('Total_Gas_Customers').toPandas()\n",
    "total_gas_transfer\n",
    "\n",
    "total_gas_customers.plot(kind='line', x='Quarter', y='sum(Total_Gas_Customers)', \n",
    "               title = 'Total Gas Customers per Quarter', figsize = (5,5), rot = 0)"
   ]
  },
  {
   "cell_type": "markdown",
   "id": "441fe726",
   "metadata": {},
   "source": [
    "### Electricity Customers"
   ]
  },
  {
   "cell_type": "code",
   "execution_count": null,
   "id": "e7b0965b",
   "metadata": {},
   "outputs": [],
   "source": [
    "total_electricity_customers = df.groupBy('Quarter').sum('Total_Electricity_Customers').toPandas()\n",
    "total_electricity_customers\n",
    "\n",
    "total_electricity_customers.plot(kind='line', x='Quarter', y='sum(Total_Electricity_Customers)', \n",
    "               title = 'Total Electricity Customers per Quarter', figsize = (5,5), rot = 0)"
   ]
  },
  {
   "cell_type": "markdown",
   "id": "ed84b272",
   "metadata": {},
   "source": [
    "## Gas and Electricity Customers per Year"
   ]
  },
  {
   "cell_type": "markdown",
   "id": "7a4d3cb8",
   "metadata": {},
   "source": [
    "### Combined Customers"
   ]
  },
  {
   "cell_type": "code",
   "execution_count": null,
   "id": "a911988d",
   "metadata": {},
   "outputs": [],
   "source": [
    "total_energy_customers = df.groupBy('Year').agg({'Total_Gas_Customers': 'sum', 'Total_Electricity_Customers': 'sum'})\n",
    "\n",
    "# Convert PySpark DataFrame to Pandas DataFrame\n",
    "pandas_df = total_energy_customers.toPandas()\n",
    "pandas_df = pandas_df.sort_values(by='Year')\n",
    "\n",
    "# Plotting using Pandas\n",
    "pandas_df.plot(kind='line', x='Year', y=['sum(Total_Gas_Customers)', 'sum(Total_Electricity_Customers)'],\n",
    "               title='Total Energy Customers per Year', figsize=(10, 10), rot=0, stacked = True)"
   ]
  },
  {
   "cell_type": "markdown",
   "id": "68f8e9ee",
   "metadata": {},
   "source": [
    "### Gas Customers"
   ]
  },
  {
   "cell_type": "code",
   "execution_count": null,
   "id": "39d247ce",
   "metadata": {},
   "outputs": [],
   "source": [
    "total_gas_Customers = df.groupBy('Year').sum('Total_Gas_Customers').toPandas()\n",
    "total_gas_Customers = total_gas_Customers.sort_values(by='Year')\n",
    "\n",
    "total_gas_Customers.plot(kind='line', x='Year', y='sum(Total_Gas_Customers)', \n",
    "               title = 'Total Gas Customers per Year', figsize = (5,5), rot = 0)"
   ]
  },
  {
   "cell_type": "markdown",
   "id": "1c31cad2",
   "metadata": {},
   "source": [
    "### Electricity Customers"
   ]
  },
  {
   "cell_type": "code",
   "execution_count": null,
   "id": "1bea1c0d",
   "metadata": {},
   "outputs": [],
   "source": [
    "total_electricity_Customers = df.groupBy('Year').sum('Total_Electricity_Customers').toPandas()\n",
    "total_electricity_Customers = total_electricity_Customers.sort_values(by='Year')\n",
    "\n",
    "total_electricity_Customers.plot(kind='line', x='Year', y='sum(Total_Electricity_Customers)', \n",
    "               title = 'Total Electricity Customers per Year', figsize = (5,5), rot = 0)"
   ]
  },
  {
   "cell_type": "code",
   "execution_count": null,
   "id": "ab4aa868",
   "metadata": {},
   "outputs": [],
   "source": []
  }
 ],
 "metadata": {
  "kernelspec": {
   "display_name": "Python 3",
   "language": "python",
   "name": "python3"
  },
  "language_info": {
   "codemirror_mode": {
    "name": "ipython",
    "version": 3
   },
   "file_extension": ".py",
   "mimetype": "text/x-python",
   "name": "python",
   "nbconvert_exporter": "python",
   "pygments_lexer": "ipython3",
   "version": "3.8.8"
  }
 },
 "nbformat": 4,
 "nbformat_minor": 5
}
